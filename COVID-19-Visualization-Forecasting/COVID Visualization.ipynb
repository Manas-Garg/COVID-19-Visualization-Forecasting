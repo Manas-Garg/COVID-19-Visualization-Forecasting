{
 "cells": [
  {
   "cell_type": "markdown",
   "metadata": {
    "colab_type": "text",
    "id": "TEOUzUa0HSpj"
   },
   "source": [
    "<h1><b> Novel Corona Virus 2020 Dataset Analysis & Prediction"
   ]
  },
  {
   "cell_type": "markdown",
   "metadata": {
    "colab_type": "text",
    "id": "-4heU_rL2Q1d"
   },
   "source": [
    "From World Health Organization - On 31 December 2019, WHO was alerted to several cases of pneumonia in Wuhan City, Hubei Province of China. \n",
    "Since the beginning of the coronavirus pandemic, WHO & Our World in Data team are collecting datasets on daily basis the number of COVID-19 cases and deaths, based on reports from health authorities worldwide. To insure the accuracy and reliability of the data, this process is being constantly refined. This helps to monitor and interpret the dynamics of the COVID-19 pandemic not only in the European Union (EU), the European Economic Area (EEA), but also worldwide. "
   ]
  },
  {
   "cell_type": "code",
   "execution_count": null,
   "metadata": {
    "colab": {},
    "colab_type": "code",
    "id": "iBJTK5Cw3W38"
   },
   "outputs": [],
   "source": [
    "import numpy as np \n",
    "import pandas as pd \n",
    "import matplotlib.pyplot as plt\n",
    "import plotly as py\n",
    "import plotly.express as px\n",
    "import plotly.graph_objs as go\n",
    "from plotly.subplots import make_subplots\n",
    "from plotly.offline import download_plotlyjs, init_notebook_mode, plot, iplot"
   ]
  },
  {
   "cell_type": "markdown",
   "metadata": {},
   "source": [
    "For this project we are using dataset provided by https://ourworldindata.org/coronavirus-source-data . Here we will be visualizing the current trend of cases and trends in Asia & especially in Nepal. So, let's begin the project by importing the dataset."
   ]
  },
  {
   "cell_type": "code",
   "execution_count": null,
   "metadata": {
    "colab": {},
    "colab_type": "code",
    "id": "mbO3WfRm2EKE"
   },
   "outputs": [],
   "source": [
    "covid_data = pd.read_csv('owid-covid-data.csv',sep=',')"
   ]
  },
  {
   "cell_type": "code",
   "execution_count": null,
   "metadata": {
    "colab": {
     "base_uri": "https://localhost:8080/",
     "height": 195
    },
    "colab_type": "code",
    "executionInfo": {
     "elapsed": 783,
     "status": "ok",
     "timestamp": 1584878473071,
     "user": {
      "displayName": "Bishal Bose",
      "photoUrl": "https://lh3.googleusercontent.com/a-/AOh14Gj2x0i3LKeHvuNtcpH-c1ifu9RmrdOXoUrzrhG9Tw=s64",
      "userId": "02784099802583401265"
     },
     "user_tz": -330
    },
    "id": "davlcEYn4RdU",
    "outputId": "4c60a408-6091-4c4f-94d6-5008cf4ee136"
   },
   "outputs": [],
   "source": [
    "covid_data.head()"
   ]
  },
  {
   "cell_type": "markdown",
   "metadata": {},
   "source": [
    "# Let's see how Corona Spread VS Time"
   ]
  },
  {
   "cell_type": "code",
   "execution_count": null,
   "metadata": {},
   "outputs": [],
   "source": [
    "covid_data_countrydate = covid_data[covid_data['new_cases']>0]\n",
    "covid_data_countrydate = covid_data_countrydate.groupby(['date','location']).sum().reset_index()\n",
    "\n",
    "fig = px.choropleth(covid_data_countrydate, \n",
    "                    locations=\"location\", \n",
    "                    locationmode = \"country names\",\n",
    "                    color=\"new_cases\", \n",
    "                    hover_name=\"location\", \n",
    "                    animation_frame=\"date\"\n",
    "                   )\n",
    "\n",
    "fig.update_layout(\n",
    "    title_text = 'Spread of Coronavirus',\n",
    "    title_x = 0.5,\n",
    "    geo=dict(\n",
    "        showframe = False,\n",
    "        showcoastlines = False,\n",
    "    ))\n",
    "    \n",
    "fig.show()"
   ]
  },
  {
   "cell_type": "markdown",
   "metadata": {},
   "source": [
    "# SELECTING ASIA REGION ONLY"
   ]
  },
  {
   "cell_type": "markdown",
   "metadata": {},
   "source": [
    "Here, we are visualizing the corona datasets only from Asia. So, we will be selecting datasets related to Asia continent only. "
   ]
  },
  {
   "cell_type": "code",
   "execution_count": null,
   "metadata": {},
   "outputs": [],
   "source": [
    "covid_data1=covid_data.loc[covid_data['continent'] == 'Asia']\n",
    "covid_data1"
   ]
  },
  {
   "cell_type": "markdown",
   "metadata": {
    "colab_type": "text",
    "id": "9Xb9Wd-xYho2"
   },
   "source": [
    "## Grouping the data by Country and the Date :"
   ]
  },
  {
   "cell_type": "code",
   "execution_count": null,
   "metadata": {
    "colab": {
     "base_uri": "https://localhost:8080/",
     "height": 402
    },
    "colab_type": "code",
    "executionInfo": {
     "elapsed": 3167,
     "status": "ok",
     "timestamp": 1584878485130,
     "user": {
      "displayName": "Bishal Bose",
      "photoUrl": "https://lh3.googleusercontent.com/a-/AOh14Gj2x0i3LKeHvuNtcpH-c1ifu9RmrdOXoUrzrhG9Tw=s64",
      "userId": "02784099802583401265"
     },
     "user_tz": -330
    },
    "id": "qF4Frn9N5E6E",
    "outputId": "046d708a-d5ad-4611-cffe-bc2498b89a75"
   },
   "outputs": [],
   "source": [
    "covid = covid_data1.groupby(['location', 'date']).max().reset_index().sort_values('date', ascending=False)\n",
    "covid = covid.drop_duplicates(subset = ['location'])\n",
    "covid = covid[covid['total_cases']>0]\n",
    "covid.head()"
   ]
  },
  {
   "cell_type": "code",
   "execution_count": null,
   "metadata": {
    "colab": {
     "base_uri": "https://localhost:8080/",
     "height": 542
    },
    "colab_type": "code",
    "executionInfo": {
     "elapsed": 1149,
     "status": "ok",
     "timestamp": 1584878847273,
     "user": {
      "displayName": "Bishal Bose",
      "photoUrl": "https://lh3.googleusercontent.com/a-/AOh14Gj2x0i3LKeHvuNtcpH-c1ifu9RmrdOXoUrzrhG9Tw=s64",
      "userId": "02784099802583401265"
     },
     "user_tz": -330
    },
    "id": "k2UJEbXoIg74",
    "outputId": "cd955958-c8c0-4567-e667-ea99a6e87deb",
    "scrolled": true
   },
   "outputs": [],
   "source": [
    "fig = go.Figure(data=go.Choropleth(\n",
    "    locations = covid['location'],\n",
    "    locationmode = 'country names',\n",
    "    z = covid['new_cases'],\n",
    "    colorscale = 'Reds',\n",
    "    marker_line_color = 'black',\n",
    "    marker_line_width = 0.5\n",
    "))\n",
    "\n",
    "fig.update_layout(\n",
    "    title_text = 'New cases As of October 13 : Asia',\n",
    "    title_x = 0.5,\n",
    "    geo=dict(\n",
    "        showframe = False,\n",
    "        showcoastlines = False,\n",
    "        projection_type = 'equirectangular'\n",
    "    )\n",
    ")"
   ]
  },
  {
   "cell_type": "markdown",
   "metadata": {},
   "source": [
    "# REMOVING INDIA SINCE ITS STAT IS TOO LARGE"
   ]
  },
  {
   "cell_type": "code",
   "execution_count": null,
   "metadata": {},
   "outputs": [],
   "source": [
    "df_no_india = covid[covid['location'] != 'India']\n",
    "fig = go.Figure(data=go.Choropleth(\n",
    "    locations = df_no_india['location'],\n",
    "    locationmode = 'country names',\n",
    "    z = df_no_india['new_cases'],\n",
    "    colorscale = 'Reds',\n",
    "    marker_line_color = 'black',\n",
    "    marker_line_width = 0.5\n",
    "))\n",
    "\n",
    "fig.update_layout(\n",
    "    title_text = 'New cases As of October 13 : Asia(Excluding India)',\n",
    "    title_x = 0.5,\n",
    "    geo=dict(\n",
    "        showframe = False,\n",
    "        showcoastlines = False,\n",
    "        projection_type = 'equirectangular'\n",
    "    )\n",
    ")\n"
   ]
  },
  {
   "cell_type": "markdown",
   "metadata": {},
   "source": [
    "# Drops unnecessary column(s)"
   ]
  },
  {
   "cell_type": "markdown",
   "metadata": {
    "colab_type": "text",
    "id": "n7QSyE4p4UWA"
   },
   "source": [
    "In above dataset we have lot's of columns(feature labels). We aren't using all of them in our project so we will select only required columns from our dataset. So let's make it clear at first: We will be using new cases, total cases, new deaths and total cases from Asia & Nepal"
   ]
  },
  {
   "cell_type": "code",
   "execution_count": null,
   "metadata": {},
   "outputs": [],
   "source": [
    "df = covid_data1[['continent','location', 'date','new_tests','new_cases','new_deaths','total_cases','total_deaths']]\n",
    "df"
   ]
  },
  {
   "cell_type": "markdown",
   "metadata": {},
   "source": [
    "# Dealing With Missing Data"
   ]
  },
  {
   "cell_type": "markdown",
   "metadata": {},
   "source": [
    "There might be some missing data and NAN data. So we will be replacing them by Zero. We could have used mean data but it's our first project on sagemaker so i will be keeping it a lot simple"
   ]
  },
  {
   "cell_type": "code",
   "execution_count": null,
   "metadata": {},
   "outputs": [],
   "source": [
    "df.fillna(0)"
   ]
  },
  {
   "cell_type": "markdown",
   "metadata": {
    "colab_type": "text",
    "id": "nrVHBJdbegvn"
   },
   "source": [
    "# Corona Virus Analysis In Nepal"
   ]
  },
  {
   "cell_type": "markdown",
   "metadata": {},
   "source": [
    "### CORONA CASES IN NEPAL TILL NOW"
   ]
  },
  {
   "cell_type": "code",
   "execution_count": null,
   "metadata": {},
   "outputs": [],
   "source": [
    "df11=covid_data.loc[covid_data['location'] == 'Nepal']\n",
    "bar_data = df11.groupby(['date'])['new_cases'].sum().reset_index().sort_values('date', ascending=True)\n",
    "\n",
    "fig = px.bar(bar_data, x=\"date\", y=\"new_cases\", text = 'new_cases', orientation='v', height=600,\n",
    "             title='Confirmed Cases In Nepal Till October 13')\n",
    "fig.show()"
   ]
  },
  {
   "cell_type": "code",
   "execution_count": null,
   "metadata": {
    "colab": {
     "base_uri": "https://localhost:8080/",
     "height": 402
    },
    "colab_type": "code",
    "executionInfo": {
     "elapsed": 1006,
     "status": "ok",
     "timestamp": 1584878885790,
     "user": {
      "displayName": "Bishal Bose",
      "photoUrl": "https://lh3.googleusercontent.com/a-/AOh14Gj2x0i3LKeHvuNtcpH-c1ifu9RmrdOXoUrzrhG9Tw=s64",
      "userId": "02784099802583401265"
     },
     "user_tz": -330
    },
    "id": "F3r-0FdFJDCe",
    "outputId": "129c644d-f867-4b18-ad42-956c7d8e591e"
   },
   "outputs": [],
   "source": [
    "def plot_var(var='new_deaths',\n",
    "             location='Nepal'):\n",
    "    \"\"\"\n",
    "    Plots a bar chart of the given variable over the date range\n",
    "    \"\"\"\n",
    "    assert type(var)==str, \"Expected string as the variable name\"\n",
    "    assert type(location)==str, \"Expected string as the state name\"\n",
    "    \n",
    "    y = df[df['location']==location][var][-31:]\n",
    "    x = df[df['location']==location]['date'][-31:]\n",
    "    plt.figure(figsize=(12,4))\n",
    "    plt.title(\"{} for {} In last 30 Days\".format(var,location),fontsize=18)\n",
    "    plt.bar(x=x,height=y,edgecolor='k',color='orange')\n",
    "    plt.grid(True)\n",
    "    plt.xticks(fontsize=14,rotation=45)\n",
    "    plt.yticks(fontsize=14)\n",
    "    plt.show()\n",
    "\n",
    "plot_var('new_cases')\n",
    "plot_var('new_deaths')"
   ]
  },
  {
   "cell_type": "code",
   "execution_count": null,
   "metadata": {},
   "outputs": [],
   "source": [
    "import pandas as pd\n",
    "import matplotlib.pyplot as plt\n",
    "import seaborn as sns\n",
    "covid_data = pd.read_csv('owid-covid-data.csv',sep=',')\n",
    "df=covid_data.loc[covid_data['location'] == 'Nepal']\n",
    "df = df[['continent','location', 'date','new_cases','new_deaths','total_cases','total_deaths']]\n",
    "df.fillna(0)\n",
    "covidByDay =df.groupby(['date'])[['total_cases']].sum().sort_values('date', ascending=False)\n",
    "covidByDay.head()"
   ]
  },
  {
   "cell_type": "markdown",
   "metadata": {},
   "source": [
    "# TOTAL NUMBER OF CASES IN NEPAL"
   ]
  },
  {
   "cell_type": "code",
   "execution_count": null,
   "metadata": {},
   "outputs": [],
   "source": [
    "labels = covidByDay.index.get_level_values(0).values\n",
    "\n",
    "plt.figure(figsize=(24, 6))\n",
    "ax = sns.lineplot(data=covidByDay, palette=\"tab10\", linewidth=2.5)\n",
    "ax.set_xticklabels(labels, rotation=70, horizontalalignment='right')\n",
    "ax.set_ylabel('Total Cases')\n",
    "ax.set_title('Cases of COVID-19 In Nepal')\n",
    "ax.margins(0)\n",
    "\n",
    "n = 7  # Keeps every 7th label\n",
    "[l.set_visible(False) for (i,l) in enumerate(ax.xaxis.get_ticklabels()) if i % n != 0]\n",
    "\n",
    "ax"
   ]
  },
  {
   "cell_type": "markdown",
   "metadata": {},
   "source": [
    "# REMOVING SOME ROWS"
   ]
  },
  {
   "cell_type": "markdown",
   "metadata": {},
   "source": [
    "Since the number of cases for the first few days is very small, there is large fluctuation in the early part of the graph, after which it stabilizes to a nearly straight line. Hence, we choose to ignore the low valued-data in order to develop a with a better fit."
   ]
  },
  {
   "cell_type": "code",
   "execution_count": null,
   "metadata": {},
   "outputs": [],
   "source": [
    "# only work with a limited amount of data\n",
    "df = df[df['total_cases'] > 10000]\n",
    "df"
   ]
  },
  {
   "cell_type": "code",
   "execution_count": null,
   "metadata": {},
   "outputs": [],
   "source": [
    "ar=list(range(1,112))\n",
    "df.insert(0,\"SN\",ar,True)\n",
    "df"
   ]
  },
  {
   "cell_type": "markdown",
   "metadata": {},
   "source": [
    "# PREPARING DATASET"
   ]
  },
  {
   "cell_type": "code",
   "execution_count": null,
   "metadata": {},
   "outputs": [],
   "source": [
    "x1 = np.array(df[\"SN\"]).reshape(-1,1)\n",
    "y = np.array(df['total_cases']).reshape(-1,1)"
   ]
  },
  {
   "cell_type": "code",
   "execution_count": null,
   "metadata": {},
   "outputs": [],
   "source": [
    "from sklearn.preprocessing import PolynomialFeatures\n",
    "from sklearn import linear_model\n",
    "from sklearn.linear_model import LinearRegression"
   ]
  },
  {
   "cell_type": "code",
   "execution_count": null,
   "metadata": {},
   "outputs": [],
   "source": [
    "print('--'*15,end ='');print('polynomial model training',end ='');print('--'*10)\n",
    "\n",
    "for i in range(1,6):\n",
    "    polyfet = PolynomialFeatures(degree=i)\n",
    "    xa = polyfet.fit_transform(x1)\n",
    "    model = linear_model.LinearRegression()\n",
    "    model.fit(xa,y)\n",
    "    accuracy = model.score(xa,y)\n",
    "    print('accuracy(R2) with degree_{} is -->  {}%'.format(i , round(accuracy*100,3)))\n",
    "print('--'*45)"
   ]
  },
  {
   "cell_type": "code",
   "execution_count": null,
   "metadata": {},
   "outputs": [],
   "source": [
    "polyfet = PolynomialFeatures(degree=4) #you can change degree\n",
    "xa = polyfet.fit_transform(x1)\n",
    "model = linear_model.LinearRegression()\n",
    "model.fit(xa,y)\n",
    "yp = model.predict(xa)\n",
    "yact = np.array(df['total_cases'])#.reshape(-1,1)"
   ]
  },
  {
   "cell_type": "code",
   "execution_count": null,
   "metadata": {},
   "outputs": [],
   "source": [
    "plt.figure(figsize=(8, 6)) \n",
    "plt.plot(yp,\"--b\")\n",
    "plt.plot(yact,\"-g\")\n",
    "plt.legend(['pred', 'actual'])\n",
    "plt.xticks()\n",
    "# plt.yticks([])\n",
    "plt.title(\"comparing actual and pred\", fontdict=None, loc='center')\n",
    "plt.show()"
   ]
  },
  {
   "cell_type": "markdown",
   "metadata": {},
   "source": [
    "# PREDICTING FUTURE TREND OF CORONA CASE IN NEPAL"
   ]
  },
  {
   "cell_type": "code",
   "execution_count": null,
   "metadata": {},
   "outputs": [],
   "source": [
    "x_fut = np.arange(30).reshape(-1,1)\n",
    "xf = x_fut+x1[-1:]\n",
    "y_fut = (model.predict(polyfet.transform(xf))).astype(int)"
   ]
  },
  {
   "cell_type": "code",
   "execution_count": null,
   "metadata": {},
   "outputs": [],
   "source": [
    "plt.figure(figsize=(16, 10)) \n",
    "plt.plot(x1,yp,\"--b\")\n",
    "plt.plot(x1,yact,\"-g\")\n",
    "plt.plot(xf,y_fut,\"--r\")\n",
    "plt.legend(['predicted', 'actual',\"future_pred\"])\n",
    "plt.xticks()\n",
    "\n",
    "plt.title(\"comparing actual and pred\", fontdict=None, loc='center')\n",
    "plt.show()"
   ]
  },
  {
   "cell_type": "markdown",
   "metadata": {},
   "source": [
    "# PREDICTION VALUES BY DAYS"
   ]
  },
  {
   "cell_type": "code",
   "execution_count": null,
   "metadata": {},
   "outputs": [],
   "source": [
    "#prediction after 7 days\n",
    "days = 7\n",
    "print(\"Corona Cases after {} day - \".format(days), end='')\n",
    "print(round(int(model.predict(polyfet.transform(np.array(x1[-1:]+days).reshape(-1,1)))),2))"
   ]
  },
  {
   "cell_type": "code",
   "execution_count": null,
   "metadata": {},
   "outputs": [],
   "source": [
    "#prediction of corona cases after 30 days\n",
    "days = 30\n",
    "print(\"Corona Cases after {} day - \".format(days), end='')\n",
    "print(round(int(model.predict(polyfet.transform(np.array(x1[-1:]+days).reshape(-1,1)))),2))"
   ]
  },
  {
   "cell_type": "markdown",
   "metadata": {},
   "source": [
    "# <h1> ~ Manas Garg</h1>"
   ]
  },
  {
   "cell_type": "code",
   "execution_count": null,
   "metadata": {},
   "outputs": [],
   "source": []
  },
  {
   "cell_type": "code",
   "execution_count": null,
   "metadata": {},
   "outputs": [],
   "source": []
  },
  {
   "cell_type": "code",
   "execution_count": null,
   "metadata": {},
   "outputs": [],
   "source": []
  },
  {
   "cell_type": "code",
   "execution_count": null,
   "metadata": {},
   "outputs": [],
   "source": []
  }
 ],
 "metadata": {
  "colab": {
   "authorship_tag": "ABX9TyMSJxFScnvRUwZLPPTFPQ+Q",
   "collapsed_sections": [],
   "mount_file_id": "1sPdqUo86Z-nCV9MO1ep9rNOjezR_Ut9P",
   "name": "Corona_Virus_Visualization.ipynb",
   "provenance": []
  },
  "kernelspec": {
   "display_name": "Python 3",
   "language": "python",
   "name": "python3"
  },
  "language_info": {
   "codemirror_mode": {
    "name": "ipython",
    "version": 3
   },
   "file_extension": ".py",
   "mimetype": "text/x-python",
   "name": "python",
   "nbconvert_exporter": "python",
   "pygments_lexer": "ipython3",
   "version": "3.8.3"
  }
 },
 "nbformat": 4,
 "nbformat_minor": 1
}
